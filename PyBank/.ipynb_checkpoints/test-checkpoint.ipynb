{
 "cells": [
  {
   "cell_type": "code",
   "execution_count": 441,
   "metadata": {},
   "outputs": [],
   "source": [
    "import os\n",
    "import csv"
   ]
  },
  {
   "cell_type": "code",
   "execution_count": 442,
   "metadata": {},
   "outputs": [],
   "source": [
    "#CHANGE FILES WHEN ANALZYING DIFFERENT EXCEL FILES\n",
    "csvpath_1 = os.path.join('raw_data','budget_data_1.csv')\n",
    "output_file = os.path.join(\"budget_data_1.txt\")\n",
    "\n",
    "\n",
    "with open(csvpath_1,newline=\"\")as csvfile:\n",
    "    csv_reader = csv.reader(csvfile, delimiter=\",\")\n",
    "    next(csv_reader, None)\n",
    "    \n",
    "    total_months = 0\n",
    "    total = 0\n",
    "    month_change = []\n",
    "    net_change_list = []\n",
    "    prev_net = 0\n",
    "    increase = [\"\",0]\n",
    "    decrease = [\"\",1000000000000000]\n",
    "    \n",
    "    \n",
    "    for row in csv_reader:\n",
    "        total_months = total_months + 1\n",
    "        total += int(row[1])\n",
    "        \n",
    "        net_change = int(row[1]) - prev_net\n",
    "        prev_net = int(row[1])\n",
    "        net_change_list= net_change_list + [net_change]\n",
    "        rev= sum(net_change_list) / len(net_change_list)\n",
    "        month_change = month_change + [row[0]]\n",
    "        \n",
    "        if (net_change > increase[1]):\n",
    "            increase[0] = row[0]\n",
    "            increase[1] = net_change\n",
    "            \n",
    "        if (net_change < decrease[1]):\n",
    "            decrease[0] = row[0]\n",
    "            decrease[1] = net_change\n",
    "            \n",
    "       \n",
    "        \n",
    "       \n",
    "    "
   ]
  },
  {
   "cell_type": "code",
   "execution_count": 443,
   "metadata": {},
   "outputs": [
    {
     "name": "stdout",
     "output_type": "stream",
     "text": [
      "------------------------------------------------\n",
      "Financial Analysis\n",
      "Total Months: 41\n",
      "Total Revenue: $18971412\n",
      "Average Revenue Change: $21559.365853658535\n",
      "Greatest Increase in Revenue: Feb-16 $1837235\n",
      "Greatest Decrease in Revenue: Aug-14-1779747\n"
     ]
    }
   ],
   "source": [
    "output = (\n",
    "print(\"------------------------------------------------\"),\n",
    "print(\"Financial Analysis\"),\n",
    "print(\"Total Months: \" + str(total_months)),\n",
    "print(\"Total Revenue: $\" + str(total)),\n",
    "print(\"Average Revenue Change: $\" +str(rev)),\n",
    "print(\"Greatest Increase in Revenue: \"+ str(increase[0]) + \" $\" + str(increase[1])),\n",
    "print(\"Greatest Decrease in Revenue: \"+ str(decrease[0]) + str(decrease[1]))) \n",
    "\n",
    "   "
   ]
  },
  {
   "cell_type": "code",
   "execution_count": 444,
   "metadata": {},
   "outputs": [],
   "source": [
    "clean = zip(output)\n",
    "\n",
    "with open(output_file,\"w\",newline=\"\") as csvfile:\n",
    "    csvwriter = csv.writer(csvfile,delimiter = \",\")\n",
    "    csvwriter.writerows(clean)"
   ]
  }
 ],
 "metadata": {
  "kernelspec": {
   "display_name": "Python 3",
   "language": "python",
   "name": "python3"
  },
  "language_info": {
   "codemirror_mode": {
    "name": "ipython",
    "version": 3
   },
   "file_extension": ".py",
   "mimetype": "text/x-python",
   "name": "python",
   "nbconvert_exporter": "python",
   "pygments_lexer": "ipython3",
   "version": "3.6.4"
  }
 },
 "nbformat": 4,
 "nbformat_minor": 2
}
